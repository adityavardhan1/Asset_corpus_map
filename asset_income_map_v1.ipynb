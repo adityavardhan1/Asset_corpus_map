{
 "cells": [
  {
   "cell_type": "code",
   "execution_count": 1,
   "id": "584d52ff",
   "metadata": {},
   "outputs": [],
   "source": [
    "import pandas as pd\n",
    "import numpy as np\n",
    "import datetime\n",
    "import time\n",
    "import matplotlib.pyplot as plt"
   ]
  },
  {
   "cell_type": "code",
   "execution_count": 2,
   "id": "b9959c31",
   "metadata": {},
   "outputs": [],
   "source": [
    "# function to check validity of date\n",
    "def check_date(dob,year, month, day, current_year, Age):\n",
    "    if len(dob) != 8:\n",
    "        print(\"provided date is not in current format please provide d-o-b again\")\n",
    "        return None\n",
    "    \n",
    "    leap =0\n",
    "    \n",
    "    if (year%400==0) | ((year%100!=0) &(year%4==0)): #check if year is leap year or not\n",
    "        leap=1\n",
    "    else:\n",
    "        leap=0\n",
    "    \n",
    "# check all condition for date to be valid\n",
    "    \n",
    "    months_with_31_days = {1, 3, 5, 7, 8, 10, 12}\n",
    "    months_with_30_days = {4,6,9,11}\n",
    "    \n",
    "    if month in months_with_31_days and 0<day <=31:\n",
    "        return True\n",
    "    elif leap==1 and month==2 and 0<day <=29:\n",
    "        return True\n",
    "    elif leap==0 and month==2 and 0<day <=28:\n",
    "        return True\n",
    "    elif month in months_with_30_days and 0<day <=30:\n",
    "        return True\n",
    "    else:\n",
    "        print(\"provided date is not in current format please provide d-o-b again\")\n",
    "        return None\n",
    "    \n",
    "\n",
    "def calc_age(year, current_year): #calc age\n",
    "    return (current_year-year)\n",
    "\n",
    "def check_age(Age): #check age to see if its in range\n",
    "    if Age <18:\n",
    "        print(\"Age is below 18 years please provide d-o-b again\")\n",
    "        return None\n",
    "    elif Age>60:\n",
    "        print(\"Age is above 60 years please provide d-o-b again\")\n",
    "        return None\n",
    "    else:\n",
    "        return True"
   ]
  },
  {
   "cell_type": "code",
   "execution_count": 3,
   "id": "31b4f57c",
   "metadata": {},
   "outputs": [
    {
     "name": "stdout",
     "output_type": "stream",
     "text": [
      "2024\n"
     ]
    }
   ],
   "source": [
    "#Get current year\n",
    "current_year = datetime.datetime.now().year\n",
    "print(current_year)"
   ]
  },
  {
   "cell_type": "code",
   "execution_count": 4,
   "id": "46fcfde7",
   "metadata": {},
   "outputs": [
    {
     "name": "stdout",
     "output_type": "stream",
     "text": [
      "enter date in format of ddmmyyyy04021991\n"
     ]
    }
   ],
   "source": [
    "check=None\n",
    "dob=0\n",
    "Age=0\n",
    "\n",
    "while check==None: #to take date of birth input and check if its valid input and age \n",
    "    dob = input(\"enter date in format of ddmmyyyy\")\n",
    "    year = int(dob[-4:])\n",
    "    day = int(dob[:2])\n",
    "    month= int(dob[2:4])\n",
    "    Age= calc_age(year, current_year)\n",
    "    check=check_date(dob, year, month, day, current_year, Age)\n",
    "    if check== True:\n",
    "        check=check_age(Age)"
   ]
  },
  {
   "cell_type": "code",
   "execution_count": 5,
   "id": "9be3b2f6",
   "metadata": {
    "scrolled": true
   },
   "outputs": [
    {
     "name": "stdout",
     "output_type": "stream",
     "text": [
      "Enter the cost of asset at current in numbers: 15000000\n",
      "Enter the rate at which cost of asset will rise each year, range(0,1): 0.06\n",
      "Enter the downpayment rate you are going to make, mininum should be 0.2, range(0.2,1): 0.2\n",
      "Enter the registration rate you have to pay, normaly its 0.06 to 0.08, range(0,1): 0.06\n",
      "Enter the current investment value in numbers: 900000\n",
      "Enter the annual return you expect on your investment, range(0,1): 0.12\n",
      "Enter the monthly investment value in numbers: 20000\n",
      "Enter the annualized top up you want to do, range(0,1): 0.05\n"
     ]
    }
   ],
   "source": [
    "\n",
    "while True: #current asset of cost\n",
    "    try:\n",
    "        current_asset_cost = int(input(\"Enter the cost of asset at current in numbers: \"))\n",
    "        break\n",
    "    except ValueError:\n",
    "        print(\"Invalid input. Please enter the cost of asset at current in numbers.\")\n",
    "\n",
    "while True: #appreciation rate annualized\n",
    "    try:\n",
    "        appreciation_rate = float(input(\"Enter the rate at which cost of asset will rise each year, range(0,1): \"))\n",
    "        if 0 <= appreciation_rate <= 1:\n",
    "            break  # Exit the loop if successful input\n",
    "        else:\n",
    "            print(\"Invalid input. Please enter a number between 0 and 1.\")\n",
    "    except ValueError:\n",
    "        print(\"Invalid input. Please enter a number.\")\n",
    "\n",
    "        \n",
    "while True: #donwpayment rate\n",
    "    try:\n",
    "        downpayment_rate = float(input(\"Enter the downpayment rate you are going to make, mininum should be 0.2, range(0.2,1): \"))\n",
    "        if 0.2 <= downpayment_rate <= 1:\n",
    "            break\n",
    "        else:\n",
    "            print(\"Invalid input. Please enter a number between 0.2 and 1.\")\n",
    "    except ValueError:\n",
    "        print(\"Invalid input. Please enter a number.\")\n",
    "        \n",
    "        \n",
    "while True: #registration rate\n",
    "    try:\n",
    "        registration_rate = float(input(\"Enter the registration rate you have to pay, normaly its 0.06 to 0.08, range(0,1): \"))\n",
    "        if 0 <= registration_rate <= 1:\n",
    "            break\n",
    "        else:\n",
    "            print(\"Invalid input. Please enter a number between 0 and 1.\")\n",
    "    except ValueError:\n",
    "        print(\"Invalid input. Please enter a number.\")   \n",
    "\n",
    "while True: #current investment value\n",
    "    try:\n",
    "        present_investment = int(input(\"Enter the current investment value in numbers: \"))\n",
    "        break\n",
    "    except ValueError:\n",
    "        print(\"Invalid input. Please enter the current investment value in numbers.\")\n",
    "        \n",
    "while True: # return on investment expected annualized\n",
    "    try:\n",
    "        investment_return = float(input(\"Enter the annual return you expect on your investment, range(0,1): \"))\n",
    "        if 0 <= investment_return <= 1:\n",
    "            break\n",
    "        else:\n",
    "            print(\"Invalid input. Please enter a number between 0 and 1.\")\n",
    "    except ValueError:\n",
    "        print(\"Invalid input. Please enter a number.\") \n",
    "        \n",
    "while True: #monthly sip done\n",
    "    try:\n",
    "        monthly_investment = int(input(\"Enter the monthly investment value in numbers: \"))\n",
    "        break\n",
    "    except ValueError:\n",
    "        print(\"Invalid input. Please enter the monthly investment value in numbers.\")\n",
    "\n",
    "    \n",
    "while True: # percentage at which sip will be increased annualized\n",
    "    try:\n",
    "        top_up = float(input(\"Enter the annualized top up you want to do, range(0,1): \"))\n",
    "        if 0 <= top_up <= 1:\n",
    "            break\n",
    "        else:\n",
    "            print(\"Invalid input. Please enter a number between 0 and 1.\")\n",
    "    except ValueError:\n",
    "        print(\"Invalid input. Please enter a number.\") \n",
    "        "
   ]
  },
  {
   "cell_type": "code",
   "execution_count": 29,
   "id": "53c1734a",
   "metadata": {
    "scrolled": false
   },
   "outputs": [],
   "source": [
    "\n",
    "working_year_left = 60-Age\n",
    "\n",
    "year_list = [0]*working_year_left\n",
    "\n",
    "for i in range(0, working_year_left): #create list of year from current to retirement age\n",
    "    year_list[i] = current_year+i\n",
    "\n",
    "asset_df = pd.DataFrame(year_list, columns=[\"Year\"])  #create dataframe of asset cost calc\n",
    "\n",
    "asset_df[\"initial_asset_cost\"] = current_asset_cost\n",
    "asset_df['row_number'] = range(0, len(asset_df))\n",
    "asset_df[\"inflated_cost\"] =0\n",
    "\n",
    "for index, row in asset_df.iterrows():\n",
    "    asset_df.loc[index, \"inflated_cost\"] = asset_df.loc[index, \"initial_asset_cost\"]*(1+appreciation_rate)\n",
    "    asset_df.loc[index, \"downpayment\"] = asset_df.loc[index, \"inflated_cost\"]*downpayment_rate\n",
    "    asset_df.loc[index, \"registration_cost\"] = asset_df.loc[index,\"inflated_cost\"]*registration_rate\n",
    "    asset_df.loc[index,\"Final_cost\"] = asset_df.loc[index, \"inflated_cost\"] + asset_df.loc[index,\"registration_cost\"]\n",
    "    \n",
    "    if index != (asset_df.shape[0]-1):\n",
    "          asset_df.loc[index + 1, \"initial_asset_cost\"] = asset_df.loc[index, \"inflated_cost\"]\n",
    "\n",
    "investment_df = pd.DataFrame(year_list, columns=[\"Year\"]) #create dataframe of investment value calc\n",
    "\n",
    "investment_df[\"initial_investment\"] = 0\n",
    "investment_df.loc[0, \"initial_investment\"] = present_investment\n",
    "investment_df['row_number'] = range(0, len(investment_df))\n",
    "investment_df[\"new_investment\"] = monthly_investment * 12 + monthly_investment * 12 * top_up * investment_df[\"row_number\"]\n",
    "investment_df[\"Total_invest\"] = 0\n",
    "\n",
    "for index, row in investment_df.iterrows(): #loop to calc total invest and make previous total invest as next year inital invest\n",
    "    investment_df.loc[index, \"Total_invest\"] = (investment_df.loc[index, \"initial_investment\"] + investment_df.loc[index, \"new_investment\"]) * (1 + investment_return)\n",
    "    if index != (investment_df.shape[0] - 1):\n",
    "        investment_df.loc[index + 1, \"initial_investment\"] = investment_df.loc[index, \"Total_invest\"]\n",
    "        \n"
   ]
  },
  {
   "cell_type": "code",
   "execution_count": 37,
   "id": "29390345",
   "metadata": {},
   "outputs": [
    {
     "name": "stdout",
     "output_type": "stream",
     "text": [
      "As per your infomation year in which you will be able to pay downpayment:  2030\n",
      "As per your infomation year in which you will be able to buy in full cash:  2050\n"
     ]
    }
   ],
   "source": [
    "#combining both asset and investment datafrme\n",
    "combined_data = pd.merge(asset_df, investment_df[[\"Year\", \"Total_invest\"]], on=\"Year\", how=\"inner\") #combine both asset and invest dataframe\n",
    "\n",
    "for index, row in combined_data.iterrows(): #loop to calc downpayemt year and final year\n",
    "    if (combined_data.loc[index, \"Total_invest\"] - combined_data.loc[index, \"downpayment\"])>=0:\n",
    "        combined_data.loc[index, \"downpayment_year\"] = combined_data.loc[index, \"Year\"]\n",
    "    \n",
    "    if (combined_data.loc[index, \"Total_invest\"] - combined_data.loc[index, \"Final_cost\"])>=0:\n",
    "        combined_data.loc[index, \"Final_year\"] = combined_data.loc[index, \"Year\"]\n",
    "    \n",
    "downpayment_year = combined_data[\"downpayment_year\"].min() #find first time downpayment able to do\n",
    "Final_year = combined_data[\"Final_year\"].min() # find first time able to buy in cash\n",
    "\n",
    "print(\"As per your infomation year in which you will be able to pay downpayment: \", int(downpayment_year))\n",
    "print(\"As per your infomation year in which you will be able to buy in full cash: \", int(Final_year))"
   ]
  },
  {
   "cell_type": "code",
   "execution_count": 40,
   "id": "21a38374",
   "metadata": {},
   "outputs": [
    {
     "data": {
      "image/png": "[encoded data removed]",
      "text/plain": [
       "<Figure size 640x480 with 1 Axes>"
      ]
     },
     "metadata": {},
     "output_type": "display_data"
    }
   ],
   "source": [
    "#plot final invest and final cost on year\n",
    "\n",
    "plt.plot(combined_data[\"Year\"], combined_data[\"Total_invest\"], label=\"Total corpus\", color='blue')\n",
    "plt.plot(combined_data[\"Year\"], combined_data[\"Final_cost\"], label=\"Total cost\", color='red')\n",
    "plt.plot(combined_data[\"Year\"], combined_data[\"downpayment\"], label=\"Downpayment\", color='Grey')\n",
    "\n",
    "plt.xlabel('Year')\n",
    "plt.ylabel('Values')\n",
    "plt.legend()\n",
    "\n",
    "plt.show()"
   ]
  }
 ],
 "metadata": {
  "kernelspec": {
   "display_name": "Python 3 (ipykernel)",
   "language": "python",
   "name": "python3"
  },
  "language_info": {
   "codemirror_mode": {
    "name": "ipython",
    "version": 3
   },
   "file_extension": ".py",
   "mimetype": "text/x-python",
   "name": "python",
   "nbconvert_exporter": "python",
   "pygments_lexer": "ipython3",
   "version": "3.10.9"
  }
 },
 "nbformat": 4,
 "nbformat_minor": 5
}
